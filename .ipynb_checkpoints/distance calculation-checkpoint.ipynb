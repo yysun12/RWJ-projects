{
 "cells": [
  {
   "cell_type": "code",
   "execution_count": null,
   "metadata": {
    "collapsed": true
   },
   "outputs": [],
   "source": [
    "\"\"\"\n",
    "Calculate distance between two points using location coordinates\n",
    "\"\"\""
   ]
  },
  {
   "cell_type": "code",
   "execution_count": 2,
   "metadata": {
    "collapsed": false
   },
   "outputs": [
    {
     "name": "stderr",
     "output_type": "stream",
     "text": [
      ":0: FutureWarning: IPython widgets are experimental and may change in the future.\n"
     ]
    }
   ],
   "source": [
    "%matplotlib inline\n",
    "import copy\n",
    "import itertools\n",
    "\n",
    "import numpy\n",
    "import matplotlib.pyplot as plt\n",
    "import pandas\n",
    "\n",
    "import seaborn; seaborn.set()\n",
    "\n",
    "from IPython.html.widgets import *\n",
    "from math import radians, cos, sin, asin, sqrt"
   ]
  },
  {
   "cell_type": "code",
   "execution_count": 3,
   "metadata": {
    "collapsed": false
   },
   "outputs": [
    {
     "name": "stdout",
     "output_type": "stream",
     "text": [
      "[20.74, 46.77]\n",
      "[30.25, 21.0, 37.89]\n",
      "[30.22, 20.53]\n",
      "[20.33, 34.55, 25.44]\n"
     ]
    }
   ],
   "source": [
    "\"\"\"assume we have two households with location (20.74, 30.22), (46.77, 20.53) and three providers with location as \n",
    "(30.25, 20.33),(21.00, 34.55), (37.89, 25.44). We plan to calculate the distance between houshold to all three of\n",
    "these providers and store the smallest distance. \n",
    "\"\"\"\n",
    "\n",
    "# I assume the data comes in two list, one list consists of household location and one of provider location. \n",
    "# The following is an example, we can extend it to any data of the same type. \n",
    "\n",
    "# split the location into household location and provider location\n",
    "household_location = [20.74, 30.22,46.77, 20.53]\n",
    "provider_location = [30.25, 20.33,21.00, 34.55,37.89, 25.44]\n",
    "\n",
    "# further split location for each type into lattitude and longitude categories, create default list\n",
    "household_location_lat = []\n",
    "provider_location_lat = []\n",
    "household_location_lon = []\n",
    "provider_location_lon = []\n",
    "\n",
    "# split location and store them into each default list\n",
    "for i in range(len(household_location)):\n",
    "    if i % 2 == 0:\n",
    "        household_location_lat.append(household_location[i])\n",
    "    else:\n",
    "        household_location_lon.append(household_location[i])\n",
    "    i += 1\n",
    "\n",
    "for j in range(len(provider_location)):\n",
    "    if j % 2 == 0:\n",
    "        provider_location_lat.append(provider_location[j])\n",
    "    else:\n",
    "        provider_location_lon.append(provider_location[j])\n",
    "    j += 1\n",
    "\n",
    "print household_location_lat \n",
    "print provider_location_lat \n",
    "print household_location_lon \n",
    "print provider_location_lon "
   ]
  },
  {
   "cell_type": "code",
   "execution_count": 6,
   "metadata": {
    "collapsed": false
   },
   "outputs": [
    {
     "name": "stdout",
     "output_type": "stream",
     "text": [
      "[4790.505975860154, 7724.580597883057] [2, 1]\n"
     ]
    }
   ],
   "source": [
    "#create a function to calculate distance between two points\n",
    "\n",
    "# set the minimum distance list to be empty, then add minimum distance for each household location into the list. \n",
    "# For example, the first element in the min_distance is the minimum distance for the first household. \n",
    "# We also calculate the number of providers within a certain radius to each household. Here we set the radius to be 10000. \n",
    "min_distance = []\n",
    "radius = 10000\n",
    "num_provider = []\n",
    "for i in range(len(household_location_lat)):\n",
    "    list_km_i = []\n",
    "    lat1 = household_location_lat[i]\n",
    "    lon1 = household_location_lon[i]\n",
    "    \n",
    "    for j in range(len(provider_location_lat)):\n",
    "        lat2 = provider_location_lat[j]\n",
    "        lon2 = provider_location_lon[j]\n",
    "        \n",
    "        # haversine formula \n",
    "        dlon = lon2 - lon1 \n",
    "        dlat = lat2 - lat1 \n",
    "        a = sin(dlat/2)**2 + cos(lat1) * cos(lat2) * sin(dlon/2)**2\n",
    "        c = 2 * asin(sqrt(a)) \n",
    "        km = 6367 * c\n",
    "        i = i+1\n",
    "        list_km_i.append(km)\n",
    "        provider_number = 0\n",
    "    # count how many providers within a certain distance        \n",
    "    for provider in list_km_i:\n",
    "        if provider <= radius:\n",
    "            provider_number += 1\n",
    "    num_provider.append(provider_number)        \n",
    "    \n",
    "    list_km_i = sorted(list_km_i)\n",
    "    min_distance_i = list_km_i[0]\n",
    "    min_distance.append( min_distance_i)\n",
    "print min_distance, num_provider"
   ]
  },
  {
   "cell_type": "code",
   "execution_count": null,
   "metadata": {
    "collapsed": true
   },
   "outputs": [],
   "source": []
  },
  {
   "cell_type": "code",
   "execution_count": null,
   "metadata": {
    "collapsed": true
   },
   "outputs": [],
   "source": []
  }
 ],
 "metadata": {
  "kernelspec": {
   "display_name": "Python 2",
   "language": "python",
   "name": "python2"
  },
  "language_info": {
   "codemirror_mode": {
    "name": "ipython",
    "version": 2
   },
   "file_extension": ".py",
   "mimetype": "text/x-python",
   "name": "python",
   "nbconvert_exporter": "python",
   "pygments_lexer": "ipython2",
   "version": "2.7.9"
  }
 },
 "nbformat": 4,
 "nbformat_minor": 0
}
